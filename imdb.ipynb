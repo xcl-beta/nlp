{
 "cells": [
  {
   "cell_type": "code",
   "execution_count": 1,
   "metadata": {},
   "outputs": [
    {
     "name": "stderr",
     "output_type": "stream",
     "text": [
      "Using TensorFlow backend.\n"
     ]
    }
   ],
   "source": [
    "# coonfigure gpu memory\n",
    "import keras \n",
    "from keras import backend as K\n",
    "cfg = K.tf.ConfigProto()\n",
    "cfg.gpu_options.allow_growth = True\n",
    "K.set_session(K.tf.Session(config=cfg))\n",
    "\n",
    "\n",
    "\n",
    "from keras.datasets import imdb\n"
   ]
  },
  {
   "cell_type": "code",
   "execution_count": 56,
   "metadata": {},
   "outputs": [],
   "source": []
  },
  {
   "cell_type": "code",
   "execution_count": 7,
   "metadata": {},
   "outputs": [],
   "source": [
    "max_features = 10000\n",
    "maxlen = 20\n",
    "\n",
    "\n",
    "(train_data, train_labels), (test_data, test_labels) = imdb.load_data(num_words=max_features)"
   ]
  },
  {
   "cell_type": "code",
   "execution_count": 8,
   "metadata": {},
   "outputs": [
    {
     "data": {
      "text/plain": [
       "(218, 1, 25000, 25000)"
      ]
     },
     "execution_count": 8,
     "metadata": {},
     "output_type": "execute_result"
    }
   ],
   "source": [
    "len(train_data[0]), train_labels[0], len(train_data), len(train_labels)"
   ]
  },
  {
   "cell_type": "code",
   "execution_count": 169,
   "metadata": {},
   "outputs": [
    {
     "data": {
      "text/plain": [
       "218"
      ]
     },
     "execution_count": 169,
     "metadata": {},
     "output_type": "execute_result"
    }
   ],
   "source": [
    "len(train_data[0] )"
   ]
  },
  {
   "cell_type": "code",
   "execution_count": 170,
   "metadata": {},
   "outputs": [
    {
     "data": {
      "text/plain": [
       "9999"
      ]
     },
     "execution_count": 170,
     "metadata": {},
     "output_type": "execute_result"
    }
   ],
   "source": [
    "max([max(sequence) for sequence in train_data])"
   ]
  },
  {
   "cell_type": "code",
   "execution_count": 171,
   "metadata": {},
   "outputs": [
    {
     "name": "stdout",
     "output_type": "stream",
     "text": [
      "? this film was just brilliant casting location scenery story direction everyone's really suited the part they played and you could just imagine being there robert ? is an amazing actor and now the same being director ? father came from the same scottish island as myself so i loved the fact there was a real connection with this film the witty remarks throughout the film were great it was just brilliant so much that i bought the film as soon as it was released for ? and would recommend it to everyone to watch and the fly fishing was amazing really cried at the end it was so sad and you know what they say if you cry at a film it must have been good and this definitely was also ? to the two little boy's that played the ? of norman and paul they were just brilliant children are often left out of the ? list i think because the stars that play them all grown up are such a big profile for the whole film but these children are amazing and should be praised for what they have done don't you think the whole story was so lovely because it was true and was someone's life after all that was shared with us all\n"
     ]
    }
   ],
   "source": [
    "# decode vector to english words\n",
    "\n",
    "word_index = imdb.get_word_index()\n",
    "reverse_word_index = dict([(value, key) for (key, value) in word_index.items()])\n",
    "decoded_review = ' '.join([reverse_word_index.get(i - 3, '?') for i in train_data[0]])\n",
    "print(decoded_review)"
   ]
  },
  {
   "cell_type": "code",
   "execution_count": 172,
   "metadata": {},
   "outputs": [],
   "source": [
    " # one hot encoding\n",
    "import numpy as np\n",
    "\n",
    "def vectorize_sequences(sequences, dimension=10000):\n",
    "    results = np.zeros((len(sequences), dimension))\n",
    "    for i, sequence in enumerate(sequences):\n",
    "        results[i, sequence] = 1.\n",
    "    return results    "
   ]
  },
  {
   "cell_type": "code",
   "execution_count": 179,
   "metadata": {},
   "outputs": [
    {
     "data": {
      "text/plain": [
       "(25000, 10000)"
      ]
     },
     "execution_count": 179,
     "metadata": {},
     "output_type": "execute_result"
    }
   ],
   "source": [
    " x_test.shape"
   ]
  },
  {
   "cell_type": "code",
   "execution_count": 178,
   "metadata": {},
   "outputs": [],
   "source": [
    "x_train = vectorize_sequences(train_data)\n",
    "x_test  = vectorize_sequences(test_data)"
   ]
  },
  {
   "cell_type": "code",
   "execution_count": 180,
   "metadata": {},
   "outputs": [],
   "source": [
    "y_train = np.asarray(train_labels).astype('float32')\n",
    "y_test  = np.asarray(test_labels).astype('float32')"
   ]
  },
  {
   "cell_type": "code",
   "execution_count": 207,
   "metadata": {},
   "outputs": [
    {
     "name": "stdout",
     "output_type": "stream",
     "text": [
      "_________________________________________________________________\n",
      "Layer (type)                 Output Shape              Param #   \n",
      "=================================================================\n",
      "dense_1 (Dense)              (None, 128)               1280128   \n",
      "_________________________________________________________________\n",
      "dense_2 (Dense)              (None, 128)               16512     \n",
      "_________________________________________________________________\n",
      "dense_3 (Dense)              (None, 1)                 129       \n",
      "=================================================================\n",
      "Total params: 1,296,769\n",
      "Trainable params: 1,296,769\n",
      "Non-trainable params: 0\n",
      "_________________________________________________________________\n"
     ]
    }
   ],
   "source": [
    "from keras import models\n",
    "from keras import layers\n",
    "\n",
    "#reset_graph() # cannot used\n",
    "K.clear_session()\n",
    "model = models.Sequential()\n",
    "model.add(layers.Dense(128, activation=\"tanh\", input_shape=(10000,)))\n",
    "model.add(layers.Dense(128, activation=\"tanh\"))\n",
    "#model.add(layers.Dense(16, activation=\"relu\"))\n",
    "model.add(layers.Dense(1,  activation=\"sigmoid\"))\n",
    "model.summary()"
   ]
  },
  {
   "cell_type": "code",
   "execution_count": 208,
   "metadata": {},
   "outputs": [],
   "source": [
    "model.compile(optimizer=\"rmsprop\",\n",
    "              loss=\"binary_crossentropy\",\n",
    "              metrics=[\"accuracy\"])"
   ]
  },
  {
   "cell_type": "code",
   "execution_count": 195,
   "metadata": {},
   "outputs": [],
   "source": [
    "# split data to tune best epochs\n",
    "\n",
    "x_val = x_train[:10000]\n",
    "partial_x_train = x_train[10000:]\n",
    "\n",
    "y_val = y_train[:10000]\n",
    "partial_y_train = y_train[10000:]\n"
   ]
  },
  {
   "cell_type": "code",
   "execution_count": 209,
   "metadata": {},
   "outputs": [],
   "source": [
    "callbacks_list = [\n",
    "    keras.callbacks.EarlyStopping(\n",
    "    monitor=\"acc\",\n",
    "    patience=1, ),\n",
    "    keras.callbacks.ModelCheckpoint(\n",
    "        filepath=\"my_model.h5\",\n",
    "        monitor=\"val_loss\",\n",
    "        save_best_only=True,)     \n",
    "]"
   ]
  },
  {
   "cell_type": "code",
   "execution_count": 210,
   "metadata": {},
   "outputs": [
    {
     "name": "stdout",
     "output_type": "stream",
     "text": [
      "Train on 15000 samples, validate on 10000 samples\n",
      "Epoch 1/20\n",
      "15000/15000 [==============================] - 3s 192us/step - loss: 0.4956 - acc: 0.7755 - val_loss: 0.3170 - val_acc: 0.8727\n",
      "Epoch 2/20\n",
      "15000/15000 [==============================] - 3s 172us/step - loss: 0.2418 - acc: 0.9039 - val_loss: 0.3179 - val_acc: 0.8695\n",
      "Epoch 3/20\n",
      "15000/15000 [==============================] - 3s 176us/step - loss: 0.1896 - acc: 0.9262 - val_loss: 0.2894 - val_acc: 0.8850\n",
      "Epoch 4/20\n",
      "15000/15000 [==============================] - 3s 174us/step - loss: 0.1324 - acc: 0.9513 - val_loss: 0.3788 - val_acc: 0.8691\n",
      "Epoch 5/20\n",
      "15000/15000 [==============================] - 3s 176us/step - loss: 0.1208 - acc: 0.9562 - val_loss: 0.3650 - val_acc: 0.8776\n",
      "Epoch 6/20\n",
      "15000/15000 [==============================] - 3s 189us/step - loss: 0.0930 - acc: 0.9687 - val_loss: 0.4254 - val_acc: 0.8726\n",
      "Epoch 7/20\n",
      "15000/15000 [==============================] - 3s 200us/step - loss: 0.0796 - acc: 0.9732 - val_loss: 0.4734 - val_acc: 0.8718\n",
      "Epoch 8/20\n",
      "15000/15000 [==============================] - 3s 191us/step - loss: 0.0742 - acc: 0.9775 - val_loss: 0.5027 - val_acc: 0.8715\n",
      "Epoch 9/20\n",
      "15000/15000 [==============================] - 3s 177us/step - loss: 0.0618 - acc: 0.9831 - val_loss: 0.5529 - val_acc: 0.8700\n",
      "Epoch 10/20\n",
      "15000/15000 [==============================] - 3s 203us/step - loss: 0.0282 - acc: 0.9931 - val_loss: 0.9425 - val_acc: 0.8152\n",
      "Epoch 11/20\n",
      "15000/15000 [==============================] - 3s 184us/step - loss: 0.0351 - acc: 0.9895 - val_loss: 0.9660 - val_acc: 0.8156\n"
     ]
    }
   ],
   "source": [
    "history = model.fit(partial_x_train,\n",
    "                    partial_y_train,\n",
    "                    epochs=20,\n",
    "                    batch_size=512,\n",
    "                    callbacks=callbacks_list,\n",
    "                    validation_data=(x_val, y_val))"
   ]
  },
  {
   "cell_type": "code",
   "execution_count": 47,
   "metadata": {},
   "outputs": [
    {
     "data": {
      "text/plain": [
       "dict_keys(['val_loss', 'acc', 'val_acc', 'loss'])"
      ]
     },
     "execution_count": 47,
     "metadata": {},
     "output_type": "execute_result"
    }
   ],
   "source": [
    "history_dict = history.history\n",
    "history_dict.keys()"
   ]
  },
  {
   "cell_type": "code",
   "execution_count": 48,
   "metadata": {},
   "outputs": [
    {
     "data": {
      "image/png": "[encoded data removed]",
      "text/plain": [
       "<Figure size 432x288 with 1 Axes>"
      ]
     },
     "metadata": {
      "needs_background": "light"
     },
     "output_type": "display_data"
    }
   ],
   "source": [
    "import matplotlib.pyplot as plt\n",
    "\n",
    "history_dict = history.history\n",
    "loss_values = history_dict['loss']\n",
    "val_loss_values = history_dict['val_loss']\n",
    "\n",
    "epochs = range(1, len(loss_values) + 1)\n",
    "\n",
    "plt.plot(epochs, loss_values, 'bo', label = 'Training loss')\n",
    "plt.plot(epochs, val_loss_values, 'b', label = 'Validation loss')\n",
    "plt.title('Training and validation loss')\n",
    "plt.xlabel('Epochs')\n",
    "plt.ylabel('Loss')\n",
    "plt.legend()\n",
    "\n",
    "plt.show()"
   ]
  },
  {
   "cell_type": "code",
   "execution_count": 49,
   "metadata": {},
   "outputs": [
    {
     "data": {
      "image/png": "[encoded data removed]",
      "text/plain": [
       "<Figure size 432x288 with 1 Axes>"
      ]
     },
     "metadata": {
      "needs_background": "light"
     },
     "output_type": "display_data"
    }
   ],
   "source": [
    "acc_values = history_dict['acc']\n",
    "val_acc_values = history_dict['val_acc']\n",
    "\n",
    "plt.plot(epochs, acc_values, 'bo', label = \"Training acc\")\n",
    "plt.plot(epochs, val_acc_values, 'b', label = 'Validation acc')\n",
    "plt.xlabel('Epochs')\n",
    "plt.ylabel('Acc')\n",
    "plt.legend()\n",
    "\n",
    "plt.show()\n"
   ]
  },
  {
   "cell_type": "code",
   "execution_count": 211,
   "metadata": {},
   "outputs": [
    {
     "name": "stdout",
     "output_type": "stream",
     "text": [
      "Train on 25000 samples, validate on 10000 samples\n",
      "Epoch 1/4\n",
      "25000/25000 [==============================] - 4s 162us/step - loss: 0.4468 - acc: 0.8120 - val_loss: 0.2725 - val_acc: 0.9151\n",
      "Epoch 2/4\n",
      "25000/25000 [==============================] - 4s 151us/step - loss: 0.2544 - acc: 0.9110 - val_loss: 0.2013 - val_acc: 0.9331\n",
      "Epoch 3/4\n",
      "25000/25000 [==============================] - 4s 151us/step - loss: 0.1949 - acc: 0.9299 - val_loss: 0.1461 - val_acc: 0.9560\n",
      "Epoch 4/4\n",
      "25000/25000 [==============================] - 4s 153us/step - loss: 0.1619 - acc: 0.9428 - val_loss: 0.1229 - val_acc: 0.9633\n"
     ]
    },
    {
     "data": {
      "text/plain": [
       "<keras.callbacks.History at 0x7f4c34240d68>"
      ]
     },
     "execution_count": 211,
     "metadata": {},
     "output_type": "execute_result"
    }
   ],
   "source": [
    "# fit less \n",
    "import keras\n",
    "\n",
    "callbacks_list = [\n",
    "    keras.callbacks.EarlyStopping(\n",
    "    monitor=\"acc\",\n",
    "    patience=1, ),\n",
    "    \n",
    "    keras.callbacks.ModelCheckpoint(\n",
    "        filepath=\"my_model.h5\",\n",
    "        monitor=\"val_loss\",\n",
    "        save_best_only=True,)     \n",
    "]\n",
    "\n",
    "\n",
    "K.clear_session()\n",
    "model = models.Sequential()\n",
    "model.add(layers.Dense(16, activation=\"relu\", input_shape=(10000,)))\n",
    "model.add(layers.Dense(16, activation=\"relu\"))\n",
    "model.add(layers.Dense(1,  activation=\"sigmoid\"))\n",
    "\n",
    "model.compile(optimizer = 'rmsprop',\n",
    "              loss='binary_crossentropy',\n",
    "              metrics=['acc'])\n",
    "\n",
    "\n",
    "model.fit(x_train,\n",
    "                    y_train,\n",
    "                    epochs=4,\n",
    "                    batch_size=512,\n",
    "                    callbacks=callbacks_list,\n",
    "                    validation_data=(x_val, y_val))\n",
    "\n"
   ]
  },
  {
   "cell_type": "code",
   "execution_count": 50,
   "metadata": {},
   "outputs": [
    {
     "name": "stdout",
     "output_type": "stream",
     "text": [
      "25000/25000 [==============================] - 3s 140us/step\n"
     ]
    },
    {
     "data": {
      "text/plain": [
       "[0.6643159680914879, 0.85604]"
      ]
     },
     "execution_count": 50,
     "metadata": {},
     "output_type": "execute_result"
    }
   ],
   "source": [
    "results = model.evaluate(x_test,y_test)\n",
    "results"
   ]
  },
  {
   "cell_type": "code",
   "execution_count": 51,
   "metadata": {},
   "outputs": [
    {
     "data": {
      "text/plain": [
       "array([[0.01311135],\n",
       "       [1.        ],\n",
       "       [0.9842337 ],\n",
       "       ...,\n",
       "       [0.01272768],\n",
       "       [0.02376787],\n",
       "       [0.88717794]], dtype=float32)"
      ]
     },
     "execution_count": 51,
     "metadata": {},
     "output_type": "execute_result"
    }
   ],
   "source": [
    "model.predict(x_test)"
   ]
  },
  {
   "cell_type": "code",
   "execution_count": 59,
   "metadata": {},
   "outputs": [],
   "source": [
    "max_features = 10000\n",
    "\n",
    "\n",
    "(x_train, y_train), (x_test, y_test) = imdb.load_data(num_words=max_features)\n"
   ]
  },
  {
   "cell_type": "code",
   "execution_count": 53,
   "metadata": {},
   "outputs": [
    {
     "data": {
      "text/plain": [
       "((25000,), 25000, 218)"
      ]
     },
     "execution_count": 53,
     "metadata": {},
     "output_type": "execute_result"
    }
   ],
   "source": [
    "x_train.shape,len(y_test), len(x_train[0]) #, x_train[0], y_test "
   ]
  },
  {
   "cell_type": "code",
   "execution_count": null,
   "metadata": {},
   "outputs": [],
   "source": []
  },
  {
   "cell_type": "code",
   "execution_count": 216,
   "metadata": {},
   "outputs": [],
   "source": [
    "max_features = 10000\n",
    "maxlen = 100\n",
    "\n",
    "(train_data, train_labels), (test_data, test_labels) = imdb.load_data(num_words=max_features)\n",
    "\n",
    "## Using embedding"
   ]
  },
  {
   "cell_type": "code",
   "execution_count": 228,
   "metadata": {},
   "outputs": [
    {
     "data": {
      "text/plain": [
       "array([ 163,   11, 3215,    2,    4, 1153,    9,  194,  775,    7, 8255,\n",
       "          2,  349, 2637,  148,  605,    2, 8003,   15,  123,  125,   68,\n",
       "          2, 6853,   15,  349,  165, 4362,   98,    5,    4,  228,    9,\n",
       "         43,    2, 1157,   15,  299,  120,    5,  120,  174,   11,  220,\n",
       "        175,  136,   50,    9, 4373,  228, 8255,    5,    2,  656,  245,\n",
       "       2350,    5,    4, 9837,  131,  152,  491,   18,    2,   32, 7464,\n",
       "       1212,   14,    9,    6,  371,   78,   22,  625,   64, 1382,    9,\n",
       "          8,  168,  145,   23,    4, 1690,   15,   16,    4, 1355,    5,\n",
       "         28,    6,   52,  154,  462,   33,   89,   78,  285,   16,  145,\n",
       "         95], dtype=int32)"
      ]
     },
     "execution_count": 228,
     "metadata": {},
     "output_type": "execute_result"
    }
   ],
   "source": []
  },
  {
   "cell_type": "code",
   "execution_count": 226,
   "metadata": {},
   "outputs": [],
   "source": [
    "\n",
    "# processing with Embedding layer \n",
    "\n",
    "from keras import preprocessing \n",
    "# convert list to array, only keep the last maxlen numbers, truncate the begining sequence\n",
    "x_train = preprocessing.sequence.pad_sequences(train_data, maxlen = maxlen)\n",
    "\n",
    "x_test = preprocessing.sequence.pad_sequences(test_data, maxlen = maxlen)"
   ]
  },
  {
   "cell_type": "code",
   "execution_count": 218,
   "metadata": {},
   "outputs": [],
   "source": [
    "x_train = np.asarray(x_train).astype('float32')\n",
    "x_test  = np.asarray(x_test).astype('float32')"
   ]
  },
  {
   "cell_type": "code",
   "execution_count": 229,
   "metadata": {},
   "outputs": [
    {
     "data": {
      "text/plain": [
       "((25000, 100),\n",
       " 25000,\n",
       " 100,\n",
       " array([1301,    4, 1873,   33,   89,   78,   12,   66,   16,    4,  360,\n",
       "           7,    4,   58,  316,  334,   11,    4, 1716,   43,  645,  662,\n",
       "           8,  257,   85, 1200,   42, 1228, 2578,   83,   68, 3912,   15,\n",
       "          36,  165, 1539,  278,   36,   69,    2,  780,    8,  106,   14,\n",
       "        6905, 1338,   18,    6,   22,   12,  215,   28,  610,   40,    6,\n",
       "          87,  326,   23, 2300,   21,   23,   22,   12,  272,   40,   57,\n",
       "          31,   11,    4,   22,   47,    6, 2307,   51,    9,  170,   23,\n",
       "         595,  116,  595, 1352,   13,  191,   79,  638,   89,    2,   14,\n",
       "           9,    8,  106,  607,  624,   35,  534,    6,  227,    7,  129,\n",
       "         113], dtype=int32),\n",
       " array([0., 1., 1., ..., 0., 0., 0.], dtype=float32))"
      ]
     },
     "execution_count": 229,
     "metadata": {},
     "output_type": "execute_result"
    }
   ],
   "source": [
    "x_train.shape,len(y_test), len(x_train[0]), x_train[2], y_test "
   ]
  },
  {
   "cell_type": "code",
   "execution_count": 237,
   "metadata": {},
   "outputs": [
    {
     "name": "stdout",
     "output_type": "stream",
     "text": [
      "_________________________________________________________________\n",
      "Layer (type)                 Output Shape              Param #   \n",
      "=================================================================\n",
      "features (Embedding)         (None, 100, 8)            80000     \n",
      "_________________________________________________________________\n",
      "flatten_1 (Flatten)          (None, 800)               0         \n",
      "_________________________________________________________________\n",
      "dense_1 (Dense)              (None, 1)                 801       \n",
      "=================================================================\n",
      "Total params: 80,801\n",
      "Trainable params: 80,801\n",
      "Non-trainable params: 0\n",
      "_________________________________________________________________\n"
     ]
    }
   ],
   "source": [
    "from keras.models import Sequential\n",
    "from keras.layers import Flatten, Dense\n",
    "from keras.layers import Embedding\n",
    "\n",
    "K.clear_session()\n",
    "\n",
    "model = Sequential()\n",
    "model.add(Embedding(10000,8,input_length=maxlen, name = \"features\")) # train data cannot be one hot\n",
    "\n",
    "model.add(Flatten())\n",
    "\n",
    "model.add(Dense(1, activation = \"sigmoid\"))\n",
    "model.compile(optimizer=\"rmsprop\", loss = \"binary_crossentropy\", metrics=[\"acc\"])\n",
    "model.summary()\n"
   ]
  },
  {
   "cell_type": "code",
   "execution_count": 57,
   "metadata": {},
   "outputs": [
    {
     "name": "stdout",
     "output_type": "stream",
     "text": [
      "WARNING:tensorflow:From /home/lixiaochuan/anaconda3/envs/tfgpu/lib/python3.5/site-packages/tensorflow/contrib/learn/python/learn/datasets/base.py:198: retry (from tensorflow.contrib.learn.python.learn.datasets.base) is deprecated and will be removed in a future version.\n",
      "Instructions for updating:\n",
      "Use the retry module or similar alternatives.\n"
     ]
    }
   ],
   "source": [
    "# !mkdir my_log_dir\n",
    "\n",
    "callbacks = [ \n",
    "    keras.callbacks.TensorBoard(\n",
    "        log_dir = \"my_log_dir\", \n",
    "        histogram_freq = 1,\n",
    "        embeddings_freq = 1,\n",
    "        embeddings_layer_names=['features'],\n",
    "        embeddings_data = x_train,\n",
    "        )]"
   ]
  },
  {
   "cell_type": "code",
   "execution_count": 157,
   "metadata": {},
   "outputs": [
    {
     "data": {
      "text/plain": [
       "((25000, 100), dtype('float32'), (25000, 100))"
      ]
     },
     "execution_count": 157,
     "metadata": {},
     "output_type": "execute_result"
    }
   ],
   "source": [
    "x_test.shape, x_test.dtype, x_train.shape"
   ]
  },
  {
   "cell_type": "code",
   "execution_count": 239,
   "metadata": {},
   "outputs": [
    {
     "name": "stdout",
     "output_type": "stream",
     "text": [
      "Train on 25000 samples, validate on 25000 samples\n",
      "Epoch 1/10\n",
      "25000/25000 [==============================] - 6s 237us/step - loss: 0.5919 - acc: 0.7010 - val_loss: 0.4210 - val_acc: 0.8263\n",
      "Epoch 2/10\n",
      "25000/25000 [==============================] - 5s 216us/step - loss: 0.3420 - acc: 0.8582 - val_loss: 0.3299 - val_acc: 0.8546\n",
      "Epoch 3/10\n",
      "25000/25000 [==============================] - 6s 220us/step - loss: 0.2780 - acc: 0.8856 - val_loss: 0.3172 - val_acc: 0.8602\n",
      "Epoch 4/10\n",
      "25000/25000 [==============================] - 5s 219us/step - loss: 0.2477 - acc: 0.8984 - val_loss: 0.3163 - val_acc: 0.8628\n",
      "Epoch 5/10\n",
      "25000/25000 [==============================] - 6s 220us/step - loss: 0.2267 - acc: 0.9087 - val_loss: 0.3238 - val_acc: 0.8619\n",
      "Epoch 6/10\n",
      "25000/25000 [==============================] - 5s 217us/step - loss: 0.2086 - acc: 0.9167 - val_loss: 0.3277 - val_acc: 0.8606\n",
      "Epoch 7/10\n",
      "25000/25000 [==============================] - 6s 220us/step - loss: 0.1919 - acc: 0.9278 - val_loss: 0.3361 - val_acc: 0.8595\n",
      "Epoch 8/10\n",
      "25000/25000 [==============================] - 6s 220us/step - loss: 0.1752 - acc: 0.9346 - val_loss: 0.3455 - val_acc: 0.8582\n",
      "Epoch 9/10\n",
      "25000/25000 [==============================] - 5s 220us/step - loss: 0.1590 - acc: 0.9421 - val_loss: 0.3583 - val_acc: 0.8564\n",
      "Epoch 10/10\n",
      "25000/25000 [==============================] - 6s 220us/step - loss: 0.1428 - acc: 0.9485 - val_loss: 0.3664 - val_acc: 0.8544\n"
     ]
    }
   ],
   "source": [
    "history = model.fit(x_train, \n",
    "                   y_train,\n",
    "                   epochs=10,\n",
    "                   batch_size=32,\n",
    "                   callbacks = callbacks,\n",
    "                   #validation_split=0.2)\n",
    "                    validation_data=(x_test, y_test))"
   ]
  },
  {
   "cell_type": "markdown",
   "metadata": {},
   "source": [
    "# download the raw IMDB data"
   ]
  },
  {
   "cell_type": "code",
   "execution_count": 79,
   "metadata": {},
   "outputs": [],
   "source": [
    "\n",
    "\n",
    "import os\n",
    "\n",
    "imdb_dir = '/home/lixiaochuan/Downloads/kaggle_data/aclImdb/aclImdb/'\n",
    "train_dir = os.path.join(imdb_dir, 'train')\n",
    "\n",
    "labels = []\n",
    "texts = []\n",
    "\n",
    "for label_type in ['neg', 'pos']:\n",
    "    dir_name = os.path.join(train_dir, label_type)\n",
    "    \n",
    "    for fname in os.listdir(dir_name):\n",
    "        if fname[-4:] == '.txt':\n",
    "            f = open(os.path.join(dir_name, fname))\n",
    "            texts.append(f.read())\n",
    "            f.close()\n",
    "        \n",
    "        if label_type == 'neg':\n",
    "            labels.append(0)\n",
    "        else:\n",
    "            labels.append(1)\n",
    "\n"
   ]
  },
  {
   "cell_type": "code",
   "execution_count": 80,
   "metadata": {},
   "outputs": [
    {
     "data": {
      "text/plain": [
       "(25000, 25000)"
      ]
     },
     "execution_count": 80,
     "metadata": {},
     "output_type": "execute_result"
    }
   ],
   "source": [
    "len(texts), len(labels)"
   ]
  },
  {
   "cell_type": "code",
   "execution_count": 18,
   "metadata": {},
   "outputs": [
    {
     "data": {
      "text/plain": [
       "(['waas',\n",
       "  \"'some'\",\n",
       "  'vertebrae',\n",
       "  'utilise',\n",
       "  \"pet'\",\n",
       "  'bindings',\n",
       "  \"'attacker'\",\n",
       "  'paesan',\n",
       "  'nec',\n",
       "  'hasselhoff'],\n",
       " [77237, 57644, 63855, 32382, 57138, 74510, 71290, 71154, 73789, 13737])"
      ]
     },
     "execution_count": 18,
     "metadata": {},
     "output_type": "execute_result"
    }
   ],
   "source": [
    "#list(word_index.keys())[:10], list(word_index.values())[:10]"
   ]
  },
  {
   "cell_type": "code",
   "execution_count": 81,
   "metadata": {},
   "outputs": [
    {
     "name": "stdout",
     "output_type": "stream",
     "text": [
      "Found 88582 unique tokens.\n",
      "Shape of data tensor: (25000, 200)\n",
      "Shape of label tensor: (25000,)\n"
     ]
    }
   ],
   "source": [
    "from keras.preprocessing.text import Tokenizer\n",
    "from keras.preprocessing.sequence import pad_sequences\n",
    "import numpy as np\n",
    "\n",
    "\n",
    "maxlen = 200\n",
    "training_samples = 10000 #10000\n",
    "validation_samples = 5000 #10000\n",
    "max_words = 10000\n",
    "embedding_dim = 100\n",
    "\n",
    "tokenizer = Tokenizer(num_words=max_words)\n",
    "tokenizer.fit_on_texts(texts)\n",
    "sequences = tokenizer.texts_to_sequences(texts)\n",
    "\n",
    "word_index = tokenizer.word_index\n",
    "print('Found %s unique tokens.' % len(word_index)) # more than specified max_words, how the words not in the top max words represented?\n",
    "data = pad_sequences(sequences, maxlen=maxlen, padding='post', truncating='post')\n",
    "labels = np.asarray(labels)\n",
    "print('Shape of data tensor:', data.shape)\n",
    "print('Shape of label tensor:', labels.shape)\n",
    "\n",
    "\n",
    "indices = np.arange(data.shape[0])\n",
    "np.random.shuffle(indices)\n",
    "data = data[indices]\n",
    "labels = labels[indices]\n",
    "\n",
    "x_train = data[:training_samples]\n",
    "y_train = labels[:training_samples]\n",
    "\n",
    "x_val = data[training_samples: training_samples + validation_samples]\n",
    "y_val = labels[training_samples: training_samples + validation_samples]"
   ]
  },
  {
   "cell_type": "code",
   "execution_count": 82,
   "metadata": {},
   "outputs": [
    {
     "data": {
      "text/plain": [
       "9999"
      ]
     },
     "execution_count": 82,
     "metadata": {},
     "output_type": "execute_result"
    }
   ],
   "source": [
    "#len(set([value for key, value in word_index.items()])) # total number of words \n",
    "# check the max_len effect \n",
    "\n",
    "len(sequences[0]),len(list(set(sequences[0])))\n",
    "output = set([])\n",
    "\n",
    "for sequence in sequences:\n",
    "    output = output | set(sequence) \n",
    "    \n",
    "    \n",
    "    \n",
    "len(list(output))\n"
   ]
  },
  {
   "cell_type": "markdown",
   "metadata": {},
   "source": [
    " \n",
    "\n",
    "# use precomputed GLOVE word embedding"
   ]
  },
  {
   "cell_type": "code",
   "execution_count": 83,
   "metadata": {},
   "outputs": [
    {
     "name": "stdout",
     "output_type": "stream",
     "text": [
      "<_io.TextIOWrapper name='/home/lixiaochuan/Downloads/kaggle_data/glove.6B/glove.6B.100d.txt' mode='r' encoding='UTF-8'>\n",
      "Found 400000 word vectors.\n"
     ]
    }
   ],
   "source": [
    "# use precomputed GLOVE word embedding\n",
    "\n",
    "glove_dir = '/home/lixiaochuan/Downloads/kaggle_data/glove.6B'\n",
    "embeddings_index = {}\n",
    "f = open(os.path.join(glove_dir, 'glove.6B.100d.txt'))\n",
    "\n",
    "print(f)\n",
    "\n",
    "for line in f:\n",
    "    values = line.split()\n",
    "    word = values[0]\n",
    "    coefs = np.asarray(values[1:], dtype='float32')\n",
    "    embeddings_index[word] = coefs\n",
    "\n",
    "f.close()\n",
    "    \n",
    "print('Found %s word vectors.' % len(embeddings_index))"
   ]
  },
  {
   "cell_type": "code",
   "execution_count": 84,
   "metadata": {},
   "outputs": [
    {
     "data": {
      "text/plain": [
       "(100,\n",
       " 'sandberger',\n",
       " array([ 0.28365  , -0.6263   , -0.44351  ,  0.2177   , -0.087421 ,\n",
       "        -0.17062  ,  0.29266  , -0.024899 ,  0.26414  , -0.17023  ,\n",
       "         0.25817  ,  0.097484 , -0.33103  , -0.43859  ,  0.0095799,\n",
       "         0.095624 , -0.17777  ,  0.38886  ,  0.27151  ,  0.14742  ,\n",
       "        -0.43973  , -0.26588  , -0.024271 ,  0.27186  , -0.36761  ,\n",
       "        -0.24827  , -0.20815  ,  0.22128  , -0.044409 ,  0.021373 ,\n",
       "         0.24594  ,  0.26143  ,  0.29303  ,  0.13281  ,  0.082232 ,\n",
       "        -0.12869  ,  0.1622   , -0.22567  , -0.060348 ,  0.28703  ,\n",
       "         0.11381  ,  0.34839  ,  0.3419   ,  0.36996  , -0.13592  ,\n",
       "         0.0062694,  0.080317 ,  0.0036251,  0.43093  ,  0.01882  ,\n",
       "         0.31008  ,  0.16722  ,  0.074112 , -0.37745  ,  0.47363  ,\n",
       "         0.41284  ,  0.24471  ,  0.075965 , -0.51725  , -0.49481  ,\n",
       "         0.526    , -0.074645 ,  0.41434  , -0.1956   , -0.16544  ,\n",
       "        -0.045649 , -0.40153  , -0.13136  , -0.4672   ,  0.18825  ,\n",
       "         0.2612   ,  0.16854  ,  0.22615  ,  0.62992  , -0.1288   ,\n",
       "         0.055841 ,  0.01928  ,  0.024572 ,  0.46875  ,  0.2582   ,\n",
       "        -0.31672  ,  0.048591 ,  0.3277   , -0.50141  ,  0.30855  ,\n",
       "         0.11997  , -0.25768  , -0.039867 , -0.059672 ,  0.5525   ,\n",
       "         0.13885  , -0.22862  ,  0.071792 , -0.43208  ,  0.5398   ,\n",
       "        -0.085806 ,  0.032651 ,  0.43678  , -0.82607  , -0.15701  ],\n",
       "       dtype=float32),\n",
       " array([ 0.28365  , -0.6263   , -0.44351  ,  0.2177   , -0.087421 ,\n",
       "        -0.17062  ,  0.29266  , -0.024899 ,  0.26414  , -0.17023  ,\n",
       "         0.25817  ,  0.097484 , -0.33103  , -0.43859  ,  0.0095799,\n",
       "         0.095624 , -0.17777  ,  0.38886  ,  0.27151  ,  0.14742  ,\n",
       "        -0.43973  , -0.26588  , -0.024271 ,  0.27186  , -0.36761  ,\n",
       "        -0.24827  , -0.20815  ,  0.22128  , -0.044409 ,  0.021373 ,\n",
       "         0.24594  ,  0.26143  ,  0.29303  ,  0.13281  ,  0.082232 ,\n",
       "        -0.12869  ,  0.1622   , -0.22567  , -0.060348 ,  0.28703  ,\n",
       "         0.11381  ,  0.34839  ,  0.3419   ,  0.36996  , -0.13592  ,\n",
       "         0.0062694,  0.080317 ,  0.0036251,  0.43093  ,  0.01882  ,\n",
       "         0.31008  ,  0.16722  ,  0.074112 , -0.37745  ,  0.47363  ,\n",
       "         0.41284  ,  0.24471  ,  0.075965 , -0.51725  , -0.49481  ,\n",
       "         0.526    , -0.074645 ,  0.41434  , -0.1956   , -0.16544  ,\n",
       "        -0.045649 , -0.40153  , -0.13136  , -0.4672   ,  0.18825  ,\n",
       "         0.2612   ,  0.16854  ,  0.22615  ,  0.62992  , -0.1288   ,\n",
       "         0.055841 ,  0.01928  ,  0.024572 ,  0.46875  ,  0.2582   ,\n",
       "        -0.31672  ,  0.048591 ,  0.3277   , -0.50141  ,  0.30855  ,\n",
       "         0.11997  , -0.25768  , -0.039867 , -0.059672 ,  0.5525   ,\n",
       "         0.13885  , -0.22862  ,  0.071792 , -0.43208  ,  0.5398   ,\n",
       "        -0.085806 ,  0.032651 ,  0.43678  , -0.82607  , -0.15701  ],\n",
       "       dtype=float32))"
      ]
     },
     "execution_count": 84,
     "metadata": {},
     "output_type": "execute_result"
    }
   ],
   "source": [
    "len(coefs), word, coefs, embeddings_index[word] #word_index "
   ]
  },
  {
   "cell_type": "code",
   "execution_count": 66,
   "metadata": {},
   "outputs": [
    {
     "data": {
      "text/plain": [
       "[('privates', 23342),\n",
       " ('bungler', 36657),\n",
       " (\"sawyer's\", 39516),\n",
       " (\"rozema's\", 66643),\n",
       " ('recycled', 5284),\n",
       " ('vhs', 1774),\n",
       " ('arbitrary', 10349),\n",
       " ('doll', 3150),\n",
       " ('combustion', 75227),\n",
       " ('berry', 10198)]"
      ]
     },
     "execution_count": 66,
     "metadata": {},
     "output_type": "execute_result"
    }
   ],
   "source": [
    "list(word_index.items())[:10]"
   ]
  },
  {
   "cell_type": "code",
   "execution_count": 85,
   "metadata": {},
   "outputs": [],
   "source": [
    "# create embedding matrix\n",
    "embedding_dim = 100 # should match with downloaded glove embedding size\n",
    "embedding_matrix = np.zeros((max_words, embedding_dim)) # be careful of the dimension\n",
    "\n",
    "# build the top 10000 (max_words) embedding matrix\n",
    "for word, i in word_index.items(): # word_index is ordered by frequency, \n",
    "    if i < max_words:\n",
    "        embedding_vector = embeddings_index.get(word) # embeddings_index: saved 400k glove embedding\n",
    "        \n",
    "        if embedding_vector is not None:\n",
    "            embedding_matrix[i] = embedding_vector"
   ]
  },
  {
   "cell_type": "code",
   "execution_count": null,
   "metadata": {},
   "outputs": [],
   "source": []
  },
  {
   "cell_type": "code",
   "execution_count": 86,
   "metadata": {},
   "outputs": [
    {
     "name": "stdout",
     "output_type": "stream",
     "text": [
      "_________________________________________________________________\n",
      "Layer (type)                 Output Shape              Param #   \n",
      "=================================================================\n",
      "embedding_11 (Embedding)     (None, 200, 100)          1000000   \n",
      "_________________________________________________________________\n",
      "flatten_2 (Flatten)          (None, 20000)             0         \n",
      "_________________________________________________________________\n",
      "dense_14 (Dense)             (None, 32)                640032    \n",
      "_________________________________________________________________\n",
      "dense_15 (Dense)             (None, 1)                 33        \n",
      "=================================================================\n",
      "Total params: 1,640,065\n",
      "Trainable params: 1,640,065\n",
      "Non-trainable params: 0\n",
      "_________________________________________________________________\n"
     ]
    }
   ],
   "source": [
    "from keras.models import Sequential\n",
    "from keras.layers import Embedding, Flatten, Dense\n",
    "\n",
    "#K.clear_session()\n",
    "\n",
    "model5 = Sequential()\n",
    "model5.add(Embedding(max_words, embedding_dim, input_length=maxlen))\n",
    "model5.add(Flatten())\n",
    "model5.add(Dense(32, activation='relu'))\n",
    "model5.add(Dense(1, activation='sigmoid'))\n",
    "model5.summary() "
   ]
  },
  {
   "cell_type": "code",
   "execution_count": 87,
   "metadata": {},
   "outputs": [],
   "source": [
    "\n",
    "# what is the use of this? set the embedding\n",
    "model5.layers[0].set_weights([embedding_matrix])\n",
    "model5.layers[0].trainable = False"
   ]
  },
  {
   "cell_type": "code",
   "execution_count": 46,
   "metadata": {},
   "outputs": [],
   "source": [
    "#!mkdir log_glove_embedding"
   ]
  },
  {
   "cell_type": "code",
   "execution_count": 90,
   "metadata": {},
   "outputs": [],
   "source": [
    "import keras\n",
    "\n",
    "callbacks_list1 = [\n",
    "    keras.callbacks.EarlyStopping(\n",
    "    monitor=\"acc\",\n",
    "    patience=1, ),\n",
    "  \n",
    "]\n",
    "\n",
    "callbacks_list2 = [\n",
    "        keras.callbacks.ModelCheckpoint(\n",
    "        filepath=\"my_model.h5\",\n",
    "        monitor=\"val_loss\",\n",
    "        save_best_only=True,)   \n",
    "]\n",
    "callbacks_g = [ \n",
    "    keras.callbacks.TensorBoard(\n",
    "        log_dir = \"log_glove_embedding\",\n",
    "        histogram_freq = 1,\n",
    "        embeddings_freq = 1,\n",
    "        embeddings_layer_names=['embedding_1'],\n",
    "        embeddings_data = x_train,\n",
    "        )]\n"
   ]
  },
  {
   "cell_type": "code",
   "execution_count": 91,
   "metadata": {},
   "outputs": [
    {
     "name": "stdout",
     "output_type": "stream",
     "text": [
      "Train on 10000 samples, validate on 5000 samples\n",
      "Epoch 1/10\n",
      "10000/10000 [==============================] - 3s 316us/step - loss: 0.6965 - acc: 0.6022 - val_loss: 0.6183 - val_acc: 0.6594\n",
      "Epoch 2/10\n",
      "10000/10000 [==============================] - 2s 209us/step - loss: 0.5274 - acc: 0.7470 - val_loss: 0.6457 - val_acc: 0.6644\n",
      "Epoch 3/10\n",
      "10000/10000 [==============================] - 2s 210us/step - loss: 0.4031 - acc: 0.8219 - val_loss: 0.7480 - val_acc: 0.6426\n",
      "Epoch 4/10\n",
      "10000/10000 [==============================] - 2s 207us/step - loss: 0.3154 - acc: 0.8743 - val_loss: 0.6114 - val_acc: 0.7018\n",
      "Epoch 5/10\n",
      "10000/10000 [==============================] - 2s 220us/step - loss: 0.2293 - acc: 0.9143 - val_loss: 0.7081 - val_acc: 0.6930\n",
      "Epoch 6/10\n",
      "10000/10000 [==============================] - 2s 208us/step - loss: 0.1711 - acc: 0.9388 - val_loss: 0.7815 - val_acc: 0.6896\n",
      "Epoch 7/10\n",
      "10000/10000 [==============================] - 2s 210us/step - loss: 0.1315 - acc: 0.9554 - val_loss: 0.8746 - val_acc: 0.6900\n",
      "Epoch 8/10\n",
      "10000/10000 [==============================] - 2s 212us/step - loss: 0.0846 - acc: 0.9754 - val_loss: 1.4241 - val_acc: 0.6338\n",
      "Epoch 9/10\n",
      "10000/10000 [==============================] - 2s 215us/step - loss: 0.0582 - acc: 0.9832 - val_loss: 1.0149 - val_acc: 0.6946\n",
      "Epoch 10/10\n",
      "10000/10000 [==============================] - 2s 232us/step - loss: 0.0471 - acc: 0.9867 - val_loss: 1.1217 - val_acc: 0.6940\n"
     ]
    }
   ],
   "source": [
    "model5.compile(optimizer='rmsprop',loss='binary_crossentropy', metrics=['acc'])\n",
    "history = model5.fit(x_train, y_train, epochs=10, batch_size=32, \n",
    "                    callbacks =callbacks_list1,\n",
    "                    validation_data=(x_val, y_val))\n",
    "\n"
   ]
  },
  {
   "cell_type": "code",
   "execution_count": 92,
   "metadata": {},
   "outputs": [
    {
     "data": {
      "image/png": "[encoded data removed]",
      "text/plain": [
       "<Figure size 432x288 with 1 Axes>"
      ]
     },
     "metadata": {
      "needs_background": "light"
     },
     "output_type": "display_data"
    },
    {
     "data": {
      "image/png": "[encoded data removed]",
      "text/plain": [
       "<Figure size 432x288 with 1 Axes>"
      ]
     },
     "metadata": {
      "needs_background": "light"
     },
     "output_type": "display_data"
    }
   ],
   "source": [
    "import matplotlib.pyplot as plt\n",
    "acc = history.history['acc']\n",
    "val_acc = history.history['val_acc']\n",
    "loss = history.history['loss']\n",
    "val_loss = history.history['val_loss']\n",
    "epochs = range(1, len(acc) + 1)\n",
    "plt.plot(epochs, acc, 'bo', label='Training acc')\n",
    "plt.plot(epochs, val_acc, 'b', label='Validation acc')\n",
    "plt.title('Training and validation accuracy')\n",
    "plt.legend()\n",
    "plt.figure()\n",
    "plt.plot(epochs, loss, 'bo', label='Training loss')\n",
    "plt.plot(epochs, val_loss, 'b', label='Validation loss')\n",
    "plt.title('Training and validation loss')\n",
    "plt.legend()\n",
    "plt.show()"
   ]
  },
  {
   "cell_type": "code",
   "execution_count": 93,
   "metadata": {},
   "outputs": [
    {
     "name": "stdout",
     "output_type": "stream",
     "text": [
      "_________________________________________________________________\n",
      "Layer (type)                 Output Shape              Param #   \n",
      "=================================================================\n",
      "input_2 (InputLayer)         (None, 200)               0         \n",
      "_________________________________________________________________\n",
      "embedding_12 (Embedding)     (None, 200, 100)          1000000   \n",
      "_________________________________________________________________\n",
      "flatten_3 (Flatten)          (None, 20000)             0         \n",
      "_________________________________________________________________\n",
      "dense_16 (Dense)             (None, 32)                640032    \n",
      "_________________________________________________________________\n",
      "dense_17 (Dense)             (None, 1)                 33        \n",
      "=================================================================\n",
      "Total params: 1,640,065\n",
      "Trainable params: 1,640,065\n",
      "Non-trainable params: 0\n",
      "_________________________________________________________________\n"
     ]
    }
   ],
   "source": [
    "# use functional API\n",
    "from keras import Input, layers\n",
    "from keras.models import Model\n",
    "\n",
    "#K.clear_session()\n",
    "\n",
    "input_tensor = Input(shape=(maxlen,))\n",
    "x = layers.Embedding(output_dim=embedding_dim, input_dim=max_words, input_length=maxlen)(input_tensor) # embedding dimension is reversed\n",
    "x = layers.Flatten()(x)\n",
    "x = layers.Dense(32, activation='relu')(x)\n",
    "output_tensor = layers.Dense(1, activation = 'sigmoid')(x)\n",
    "\n",
    "model6 = Model(input_tensor, output_tensor)\n",
    "model6.summary()\n"
   ]
  },
  {
   "cell_type": "code",
   "execution_count": 94,
   "metadata": {},
   "outputs": [
    {
     "name": "stdout",
     "output_type": "stream",
     "text": [
      "Train on 10000 samples, validate on 5000 samples\n",
      "Epoch 1/10\n",
      "10000/10000 [==============================] - 3s 335us/step - loss: 0.5450 - acc: 0.7000 - val_loss: 0.4322 - val_acc: 0.8030\n",
      "Epoch 2/10\n",
      "10000/10000 [==============================] - 2s 220us/step - loss: 0.1420 - acc: 0.9478 - val_loss: 0.4215 - val_acc: 0.8240\n",
      "Epoch 3/10\n",
      "10000/10000 [==============================] - 2s 226us/step - loss: 0.0145 - acc: 0.9964 - val_loss: 0.5574 - val_acc: 0.8240\n",
      "Epoch 4/10\n",
      "10000/10000 [==============================] - 2s 229us/step - loss: 8.6710e-04 - acc: 0.9999 - val_loss: 0.7634 - val_acc: 0.8116\n",
      "Epoch 5/10\n",
      "10000/10000 [==============================] - 2s 225us/step - loss: 1.2208e-04 - acc: 0.9999 - val_loss: 0.8833 - val_acc: 0.8054\n"
     ]
    }
   ],
   "source": [
    "model6.compile(optimizer='rmsprop',loss='binary_crossentropy', metrics=['acc'])\n",
    "history = model6.fit(x_train, y_train, epochs=10, batch_size=32, \n",
    "                    callbacks =callbacks_list1,\n",
    "                    validation_data=(x_val, y_val))"
   ]
  },
  {
   "cell_type": "code",
   "execution_count": 95,
   "metadata": {},
   "outputs": [
    {
     "data": {
      "image/png": "[encoded data removed]",
      "text/plain": [
       "<Figure size 432x288 with 1 Axes>"
      ]
     },
     "metadata": {
      "needs_background": "light"
     },
     "output_type": "display_data"
    },
    {
     "data": {
      "image/png": "[encoded data removed]",
      "text/plain": [
       "<Figure size 432x288 with 1 Axes>"
      ]
     },
     "metadata": {
      "needs_background": "light"
     },
     "output_type": "display_data"
    }
   ],
   "source": [
    "acc = history.history['acc']\n",
    "val_acc = history.history['val_acc']\n",
    "loss = history.history['loss']\n",
    "val_loss = history.history['val_loss']\n",
    "epochs = range(1, len(acc) + 1)\n",
    "plt.plot(epochs, acc, 'bo', label='Training acc')\n",
    "plt.plot(epochs, val_acc, 'b', label='Validation acc')\n",
    "plt.title('Training and validation accuracy')\n",
    "plt.legend()\n",
    "plt.figure()\n",
    "plt.plot(epochs, loss, 'bo', label='Training loss')\n",
    "plt.plot(epochs, val_loss, 'b', label='Validation loss')\n",
    "plt.title('Training and validation loss')\n",
    "plt.legend()\n",
    "plt.show()"
   ]
  },
  {
   "cell_type": "code",
   "execution_count": 96,
   "metadata": {},
   "outputs": [],
   "source": [
    "#Listing 6.17 Tokenizing the data of the test set\n",
    "test_dir = os.path.join(imdb_dir, 'test')\n",
    "labels = []\n",
    "texts = []\n",
    "\n",
    "for label_type in ['neg', 'pos']:\n",
    "    dir_name = os.path.join(test_dir, label_type)\n",
    "\n",
    "    for fname in sorted(os.listdir(dir_name)):\n",
    "        if fname[-4:] == '.txt':\n",
    "            f = open(os.path.join(dir_name, fname))\n",
    "            texts.append(f.read())            \n",
    "            f.close()\n",
    "\n",
    "        if label_type == 'neg':\n",
    "            labels.append(0)\n",
    "        else:\n",
    "            labels.append(1)\n",
    "\n",
    "sequences = tokenizer.texts_to_sequences(texts)\n",
    "        \n",
    "x_test = pad_sequences(sequences, maxlen=maxlen, padding='post', truncating='post')\n",
    "y_test = np.asarray(labels)\n"
   ]
  },
  {
   "cell_type": "code",
   "execution_count": 97,
   "metadata": {},
   "outputs": [
    {
     "data": {
      "text/plain": [
       "((25000, 200), (25000,))"
      ]
     },
     "execution_count": 97,
     "metadata": {},
     "output_type": "execute_result"
    }
   ],
   "source": [
    "x_test.shape, y_test.shape"
   ]
  },
  {
   "cell_type": "code",
   "execution_count": 98,
   "metadata": {},
   "outputs": [
    {
     "name": "stdout",
     "output_type": "stream",
     "text": [
      "25000/25000 [==============================] - 2s 79us/step\n"
     ]
    },
    {
     "data": {
      "text/plain": [
       "[0.9401714559268206, 0.79144]"
      ]
     },
     "execution_count": 98,
     "metadata": {},
     "output_type": "execute_result"
    }
   ],
   "source": [
    "model6.evaluate(x_test, y_test)"
   ]
  },
  {
   "cell_type": "code",
   "execution_count": 99,
   "metadata": {},
   "outputs": [],
   "source": [
    "# simple RNN\n",
    "\n",
    "from keras.layers import SimpleRNN\n",
    "batch_size = 32\n"
   ]
  },
  {
   "cell_type": "code",
   "execution_count": 100,
   "metadata": {},
   "outputs": [
    {
     "data": {
      "text/plain": [
       "(10000, 100, 200, 32)"
      ]
     },
     "execution_count": 100,
     "metadata": {},
     "output_type": "execute_result"
    }
   ],
   "source": [
    "max_words, embedding_dim,  maxlen, batch_size"
   ]
  },
  {
   "cell_type": "code",
   "execution_count": 101,
   "metadata": {},
   "outputs": [
    {
     "name": "stdout",
     "output_type": "stream",
     "text": [
      "_________________________________________________________________\n",
      "Layer (type)                 Output Shape              Param #   \n",
      "=================================================================\n",
      "input_3 (InputLayer)         (None, 200)               0         \n",
      "_________________________________________________________________\n",
      "embedding_13 (Embedding)     (None, 200, 100)          1000000   \n",
      "_________________________________________________________________\n",
      "simple_rnn_3 (SimpleRNN)     (None, 32)                4256      \n",
      "_________________________________________________________________\n",
      "dense_18 (Dense)             (None, 32)                1056      \n",
      "_________________________________________________________________\n",
      "dense_19 (Dense)             (None, 1)                 33        \n",
      "=================================================================\n",
      "Total params: 1,005,345\n",
      "Trainable params: 1,005,345\n",
      "Non-trainable params: 0\n",
      "_________________________________________________________________\n"
     ]
    }
   ],
   "source": [
    "#K.clear_session()\n",
    "\n",
    "input_tensor = Input(shape=(maxlen,))\n",
    "x = layers.Embedding(output_dim=embedding_dim, input_dim=max_words, input_length=maxlen)(input_tensor) # embedding dimension is reversed\n",
    "#x = layers.Flatten()(x)\n",
    "x = layers.SimpleRNN(units=batch_size, recurrent_dropout=0.0, stateful = False)(x)\n",
    "x = layers.Dense(32, activation='relu')(x)\n",
    "output_tensor = layers.Dense(1, activation = 'sigmoid')(x)\n",
    "\n",
    "model8a = Model(input_tensor, output_tensor)\n",
    "model8a.summary()"
   ]
  },
  {
   "cell_type": "code",
   "execution_count": 41,
   "metadata": {},
   "outputs": [
    {
     "name": "stdout",
     "output_type": "stream",
     "text": [
      "_________________________________________________________________\n",
      "Layer (type)                 Output Shape              Param #   \n",
      "=================================================================\n",
      "embedding_3 (Embedding)      (None, None, 100)         1000000   \n",
      "_________________________________________________________________\n",
      "simple_rnn_2 (SimpleRNN)     (None, 32)                4256      \n",
      "_________________________________________________________________\n",
      "dense_5 (Dense)              (None, 32)                1056      \n",
      "_________________________________________________________________\n",
      "dense_6 (Dense)              (None, 1)                 33        \n",
      "=================================================================\n",
      "Total params: 1,005,345\n",
      "Trainable params: 1,005,345\n",
      "Non-trainable params: 0\n",
      "_________________________________________________________________\n"
     ]
    }
   ],
   "source": [
    "#K.clear_session()\n",
    "model8 = Sequential()\n",
    "model8.add(Embedding(max_words, embedding_dim))\n",
    "model8.add(SimpleRNN(units=batch_size, recurrent_dropout=0.0, stateful = False)) \n",
    "# drop out reduce train data performance , but no improvement on validation dataset\n",
    "model8.add(Dense(32, activation='relu')) # add another dense layer, no help\n",
    "model8.add(Dense(1, activation='sigmoid'))          \n",
    "model8.summary()\n",
    "\n",
    "# basic Simple RNN is not working"
   ]
  },
  {
   "cell_type": "code",
   "execution_count": 102,
   "metadata": {},
   "outputs": [],
   "source": [
    "#  set the pretrained embedding\n",
    "model8a.layers[1].set_weights([embedding_matrix])\n",
    "model8a.layers[1].trainable = False"
   ]
  },
  {
   "cell_type": "code",
   "execution_count": 103,
   "metadata": {},
   "outputs": [
    {
     "data": {
      "text/plain": [
       "(10000, 100)"
      ]
     },
     "execution_count": 103,
     "metadata": {},
     "output_type": "execute_result"
    }
   ],
   "source": [
    " "
   ]
  },
  {
   "cell_type": "code",
   "execution_count": 122,
   "metadata": {},
   "outputs": [
    {
     "name": "stdout",
     "output_type": "stream",
     "text": [
      "Train on 10000 samples, validate on 5000 samples\n",
      "Epoch 1/10\n",
      "10000/10000 [==============================] - 20s 2ms/step - loss: 0.6594 - acc: 0.5796 - val_loss: 0.7060 - val_acc: 0.5260\n",
      "Epoch 2/10\n",
      "10000/10000 [==============================] - 18s 2ms/step - loss: 0.6546 - acc: 0.5811 - val_loss: 0.7044 - val_acc: 0.5306\n",
      "Epoch 3/10\n",
      "10000/10000 [==============================] - 18s 2ms/step - loss: 0.6524 - acc: 0.5834 - val_loss: 0.7161 - val_acc: 0.5206\n",
      "Epoch 4/10\n",
      "10000/10000 [==============================] - 18s 2ms/step - loss: 0.6494 - acc: 0.5885 - val_loss: 0.7090 - val_acc: 0.5232\n",
      "Epoch 5/10\n",
      "10000/10000 [==============================] - 18s 2ms/step - loss: 0.6457 - acc: 0.5898 - val_loss: 0.7121 - val_acc: 0.5208\n",
      "Epoch 6/10\n",
      "10000/10000 [==============================] - 18s 2ms/step - loss: 0.6420 - acc: 0.5946 - val_loss: 0.7169 - val_acc: 0.5234\n",
      "Epoch 7/10\n",
      "10000/10000 [==============================] - 18s 2ms/step - loss: 0.6365 - acc: 0.6024 - val_loss: 0.7196 - val_acc: 0.5216\n",
      "Epoch 8/10\n",
      "10000/10000 [==============================] - 18s 2ms/step - loss: 0.6335 - acc: 0.6028 - val_loss: 0.7243 - val_acc: 0.5162\n",
      "Epoch 9/10\n",
      "10000/10000 [==============================] - 18s 2ms/step - loss: 0.6286 - acc: 0.6096 - val_loss: 0.7304 - val_acc: 0.5152\n",
      "Epoch 10/10\n",
      "10000/10000 [==============================] - 17s 2ms/step - loss: 0.6270 - acc: 0.6103 - val_loss: 0.7195 - val_acc: 0.5308\n"
     ]
    }
   ],
   "source": [
    "model8a.compile(optimizer=\"rmsprop\", loss = \"binary_crossentropy\", metrics = [\"acc\"])\n",
    "\n",
    "# does batch size here should be consistant with the batch size of simpleRNN? here it is for gradient update\n",
    "history = model8a.fit(x_train, y_train, epochs = 10, batch_size =128, validation_data=(x_val, y_val))"
   ]
  },
  {
   "cell_type": "code",
   "execution_count": 106,
   "metadata": {},
   "outputs": [
    {
     "data": {
      "image/png": "[encoded data removed]",
      "text/plain": [
       "<Figure size 432x288 with 1 Axes>"
      ]
     },
     "metadata": {
      "needs_background": "light"
     },
     "output_type": "display_data"
    },
    {
     "data": {
      "image/png": "[encoded data removed]",
      "text/plain": [
       "<Figure size 432x288 with 1 Axes>"
      ]
     },
     "metadata": {
      "needs_background": "light"
     },
     "output_type": "display_data"
    }
   ],
   "source": [
    "import matplotlib.pyplot as plt\n",
    "acc = history.history['acc']\n",
    "val_acc = history.history['val_acc']\n",
    "loss = history.history['loss']\n",
    "val_loss = history.history['val_loss']\n",
    "epochs = range(1, len(acc) + 1)\n",
    "plt.plot(epochs, acc, 'bo', label='Training acc')\n",
    "plt.plot(epochs, val_acc, 'b', label='Validation acc')\n",
    "plt.title('Training and validation accuracy')\n",
    "plt.legend()\n",
    "plt.figure()\n",
    "plt.plot(epochs, loss, 'bo', label='Training loss')\n",
    "plt.plot(epochs, val_loss, 'b', label='Validation loss')\n",
    "plt.title('Training and validation loss')\n",
    "plt.legend()\n",
    "plt.show()"
   ]
  },
  {
   "cell_type": "code",
   "execution_count": 107,
   "metadata": {},
   "outputs": [],
   "source": [
    "# LSTM model \n",
    "\n",
    "from keras.layers import LSTM\n",
    "\n"
   ]
  },
  {
   "cell_type": "code",
   "execution_count": 108,
   "metadata": {},
   "outputs": [
    {
     "name": "stdout",
     "output_type": "stream",
     "text": [
      "_________________________________________________________________\n",
      "Layer (type)                 Output Shape              Param #   \n",
      "=================================================================\n",
      "embedding_14 (Embedding)     (None, None, 100)         1000000   \n",
      "_________________________________________________________________\n",
      "lstm_7 (LSTM)                (None, 32)                17024     \n",
      "_________________________________________________________________\n",
      "dense_20 (Dense)             (None, 1)                 33        \n",
      "=================================================================\n",
      "Total params: 1,017,057\n",
      "Trainable params: 1,017,057\n",
      "Non-trainable params: 0\n",
      "_________________________________________________________________\n"
     ]
    }
   ],
   "source": [
    "model9 = Sequential()\n",
    "model9.add(Embedding(max_words, embedding_dim))\n",
    "model9.add(LSTM(batch_size))\n",
    "model9.add(Dense(1, activation='sigmoid'))          \n",
    "model9.summary()"
   ]
  },
  {
   "cell_type": "code",
   "execution_count": 109,
   "metadata": {},
   "outputs": [
    {
     "name": "stdout",
     "output_type": "stream",
     "text": [
      "Train on 10000 samples, validate on 5000 samples\n",
      "Epoch 1/20\n",
      "10000/10000 [==============================] - 48s 5ms/step - loss: 0.6928 - acc: 0.5105 - val_loss: 0.6920 - val_acc: 0.5136\n",
      "Epoch 2/20\n",
      "10000/10000 [==============================] - 46s 5ms/step - loss: 0.6392 - acc: 0.6586 - val_loss: 0.6837 - val_acc: 0.5680\n",
      "Epoch 3/20\n",
      "10000/10000 [==============================] - 46s 5ms/step - loss: 0.5302 - acc: 0.7691 - val_loss: 0.6093 - val_acc: 0.7170\n",
      "Epoch 4/20\n",
      "10000/10000 [==============================] - 46s 5ms/step - loss: 0.4617 - acc: 0.8278 - val_loss: 0.5758 - val_acc: 0.7662\n",
      "Epoch 5/20\n",
      "10000/10000 [==============================] - 46s 5ms/step - loss: 0.3940 - acc: 0.8620 - val_loss: 0.5251 - val_acc: 0.7866\n",
      "Epoch 6/20\n",
      "10000/10000 [==============================] - 46s 5ms/step - loss: 0.3442 - acc: 0.8883 - val_loss: 0.4563 - val_acc: 0.8332\n",
      "Epoch 7/20\n",
      "10000/10000 [==============================] - 46s 5ms/step - loss: 0.3176 - acc: 0.8992 - val_loss: 0.4755 - val_acc: 0.8338\n",
      "Epoch 8/20\n",
      "10000/10000 [==============================] - 46s 5ms/step - loss: 0.3264 - acc: 0.8966 - val_loss: 0.4462 - val_acc: 0.8256\n"
     ]
    }
   ],
   "source": [
    "model9.compile(optimizer=\"rmsprop\", loss = \"binary_crossentropy\", metrics = [\"acc\"])\n",
    "\n",
    "history = model9.fit(x_train, y_train, epochs = 20, batch_size =128, \n",
    "                     callbacks =callbacks_list1, \n",
    "                     validation_data=(x_val, y_val))"
   ]
  },
  {
   "cell_type": "code",
   "execution_count": 124,
   "metadata": {},
   "outputs": [
    {
     "name": "stdout",
     "output_type": "stream",
     "text": [
      "_________________________________________________________________\n",
      "Layer (type)                 Output Shape              Param #   \n",
      "=================================================================\n",
      "input_5 (InputLayer)         (None, 200)               0         \n",
      "_________________________________________________________________\n",
      "embedding_18 (Embedding)     (None, 200, 100)          1000000   \n",
      "_________________________________________________________________\n",
      "lstm_10 (LSTM)               (None, 32)                17024     \n",
      "_________________________________________________________________\n",
      "dense_25 (Dense)             (None, 1)                 33        \n",
      "=================================================================\n",
      "Total params: 1,017,057\n",
      "Trainable params: 1,017,057\n",
      "Non-trainable params: 0\n",
      "_________________________________________________________________\n"
     ]
    }
   ],
   "source": [
    "# K.clear_session()\n",
    "\n",
    "input_tensor = Input(shape=(maxlen,))\n",
    "x = layers.Embedding(output_dim=embedding_dim, input_dim=max_words, input_length=maxlen)(input_tensor) # embedding dimension is reversed\n",
    "#x = layers.Flatten()(x)\n",
    "x = layers.LSTM(units=batch_size, recurrent_dropout=0.0, stateful = False)(x)\n",
    "#x = layers.Dense(32, activation='relu')(x)\n",
    "output_tensor = layers.Dense(1, activation = 'sigmoid')(x)\n",
    "\n",
    "model9a = Model(input_tensor, output_tensor)\n",
    "model9a.summary()"
   ]
  },
  {
   "cell_type": "code",
   "execution_count": 125,
   "metadata": {},
   "outputs": [
    {
     "name": "stdout",
     "output_type": "stream",
     "text": [
      "Train on 10000 samples, validate on 5000 samples\n",
      "Epoch 1/20\n",
      "10000/10000 [==============================] - 51s 5ms/step - loss: 0.6924 - acc: 0.5157 - val_loss: 0.6911 - val_acc: 0.5062\n",
      "Epoch 2/20\n",
      "10000/10000 [==============================] - 50s 5ms/step - loss: 0.6237 - acc: 0.6866 - val_loss: 0.5929 - val_acc: 0.7378\n",
      "Epoch 3/20\n",
      "10000/10000 [==============================] - 49s 5ms/step - loss: 0.5055 - acc: 0.7910 - val_loss: 0.6302 - val_acc: 0.7218\n",
      "Epoch 4/20\n",
      "10000/10000 [==============================] - 48s 5ms/step - loss: 0.4222 - acc: 0.8453 - val_loss: 0.4638 - val_acc: 0.8188\n",
      "Epoch 5/20\n",
      "10000/10000 [==============================] - 52s 5ms/step - loss: 0.4107 - acc: 0.8515 - val_loss: 0.4360 - val_acc: 0.8322\n",
      "Epoch 6/20\n",
      "10000/10000 [==============================] - 51s 5ms/step - loss: 0.3520 - acc: 0.8829 - val_loss: 0.5044 - val_acc: 0.8012\n",
      "Epoch 7/20\n",
      "10000/10000 [==============================] - 50s 5ms/step - loss: 0.3181 - acc: 0.8964 - val_loss: 0.4261 - val_acc: 0.8418\n",
      "Epoch 8/20\n",
      "10000/10000 [==============================] - 50s 5ms/step - loss: 0.2735 - acc: 0.9107 - val_loss: 0.4114 - val_acc: 0.8502\n",
      "Epoch 9/20\n",
      "10000/10000 [==============================] - 51s 5ms/step - loss: 0.2449 - acc: 0.9221 - val_loss: 0.4308 - val_acc: 0.8458\n",
      "Epoch 10/20\n",
      "10000/10000 [==============================] - 50s 5ms/step - loss: 0.2319 - acc: 0.9146 - val_loss: 0.9292 - val_acc: 0.7334\n"
     ]
    }
   ],
   "source": [
    "model9a.compile(optimizer=\"rmsprop\", loss = \"binary_crossentropy\", metrics = [\"acc\"])\n",
    "\n",
    "history = model9a.fit(x_train, y_train, epochs = 20, batch_size =128, \n",
    "                     callbacks =callbacks_list1, \n",
    "                     validation_data=(x_val, y_val))"
   ]
  },
  {
   "cell_type": "code",
   "execution_count": 131,
   "metadata": {},
   "outputs": [
    {
     "name": "stdout",
     "output_type": "stream",
     "text": [
      "_________________________________________________________________\n",
      "Layer (type)                 Output Shape              Param #   \n",
      "=================================================================\n",
      "input_7 (InputLayer)         (None, 200)               0         \n",
      "_________________________________________________________________\n",
      "embedding_20 (Embedding)     (None, 200, 100)          1000000   \n",
      "_________________________________________________________________\n",
      "lstm_13 (LSTM)               (None, 200, 32)           17024     \n",
      "_________________________________________________________________\n",
      "lstm_14 (LSTM)               (None, 32)                8320      \n",
      "_________________________________________________________________\n",
      "dense_27 (Dense)             (None, 1)                 33        \n",
      "=================================================================\n",
      "Total params: 1,025,377\n",
      "Trainable params: 1,025,377\n",
      "Non-trainable params: 0\n",
      "_________________________________________________________________\n"
     ]
    }
   ],
   "source": [
    "# stacked LSTM\n",
    "\n",
    "input_tensor = Input(shape=(maxlen,))\n",
    "x = layers.Embedding(output_dim=embedding_dim, input_dim=max_words, input_length=maxlen)(input_tensor) # embedding dimension is reversed\n",
    "#x = layers.Flatten()(x)\n",
    "x = layers.LSTM(units=batch_size, return_sequences = True, recurrent_dropout=0.0, stateful = False)(x)\n",
    "x = layers.LSTM(units=batch_size, return_sequences = False, recurrent_dropout=0.0, stateful = False)(x)\n",
    "#x = layers.Dense(32, activation='relu')(x)\n",
    "output_tensor = layers.Dense(1, activation = 'sigmoid')(x)\n",
    "\n",
    "model9b = Model(input_tensor, output_tensor)\n",
    "model9b.summary()"
   ]
  },
  {
   "cell_type": "code",
   "execution_count": 132,
   "metadata": {},
   "outputs": [
    {
     "name": "stdout",
     "output_type": "stream",
     "text": [
      "Train on 10000 samples, validate on 5000 samples\n",
      "Epoch 1/20\n",
      "10000/10000 [==============================] - 100s 10ms/step - loss: 0.6865 - acc: 0.5409 - val_loss: 0.6256 - val_acc: 0.6932\n",
      "Epoch 2/20\n",
      "10000/10000 [==============================] - 96s 10ms/step - loss: 0.5273 - acc: 0.7649 - val_loss: 0.7310 - val_acc: 0.7306\n",
      "Epoch 3/20\n",
      "10000/10000 [==============================] - 96s 10ms/step - loss: 0.4214 - acc: 0.8404 - val_loss: 0.4467 - val_acc: 0.8174\n",
      "Epoch 4/20\n",
      "10000/10000 [==============================] - 96s 10ms/step - loss: 0.3620 - acc: 0.8740 - val_loss: 0.4211 - val_acc: 0.8424\n",
      "Epoch 5/20\n",
      "10000/10000 [==============================] - 95s 10ms/step - loss: 0.3194 - acc: 0.8952 - val_loss: 0.4314 - val_acc: 0.8360\n",
      "Epoch 6/20\n",
      "10000/10000 [==============================] - 97s 10ms/step - loss: 0.3013 - acc: 0.9047 - val_loss: 0.4499 - val_acc: 0.8416\n",
      "Epoch 7/20\n",
      "10000/10000 [==============================] - 96s 10ms/step - loss: 0.2749 - acc: 0.9156 - val_loss: 0.4664 - val_acc: 0.8404\n",
      "Epoch 8/20\n",
      "10000/10000 [==============================] - 96s 10ms/step - loss: 0.2585 - acc: 0.9188 - val_loss: 0.4654 - val_acc: 0.8370\n",
      "Epoch 9/20\n",
      "10000/10000 [==============================] - 95s 10ms/step - loss: 0.2304 - acc: 0.9229 - val_loss: 0.5308 - val_acc: 0.8094\n",
      "Epoch 10/20\n",
      "10000/10000 [==============================] - 95s 10ms/step - loss: 0.2323 - acc: 0.9201 - val_loss: 0.5081 - val_acc: 0.8166\n"
     ]
    }
   ],
   "source": [
    "model9b.compile(optimizer=\"rmsprop\", loss = \"binary_crossentropy\", metrics = [\"acc\"])\n",
    "\n",
    "history = model9b.fit(x_train, y_train, epochs = 20, batch_size =128, \n",
    "                     callbacks =callbacks_list1, \n",
    "                     validation_data=(x_val, y_val))"
   ]
  },
  {
   "cell_type": "code",
   "execution_count": 128,
   "metadata": {},
   "outputs": [
    {
     "data": {
      "image/png": "[encoded data removed]",
      "text/plain": [
       "<Figure size 432x288 with 1 Axes>"
      ]
     },
     "metadata": {
      "needs_background": "light"
     },
     "output_type": "display_data"
    },
    {
     "data": {
      "image/png": "[encoded data removed]",
      "text/plain": [
       "<Figure size 432x288 with 1 Axes>"
      ]
     },
     "metadata": {
      "needs_background": "light"
     },
     "output_type": "display_data"
    }
   ],
   "source": [
    "import matplotlib.pyplot as plt\n",
    "acc = history.history['acc']\n",
    "val_acc = history.history['val_acc']\n",
    "loss = history.history['loss']\n",
    "val_loss = history.history['val_loss']\n",
    "epochs = range(1, len(acc) + 1)\n",
    "plt.plot(epochs, acc, 'bo', label='Training acc')\n",
    "plt.plot(epochs, val_acc, 'b', label='Validation acc')\n",
    "plt.title('Training and validation accuracy')\n",
    "plt.legend()\n",
    "plt.figure()\n",
    "plt.plot(epochs, loss, 'bo', label='Training loss')\n",
    "plt.plot(epochs, val_loss, 'b', label='Validation loss')\n",
    "plt.title('Training and validation loss')\n",
    "plt.legend()\n",
    "plt.show()"
   ]
  },
  {
   "cell_type": "code",
   "execution_count": 129,
   "metadata": {},
   "outputs": [],
   "source": [
    "# use pretrained embedding\n",
    "\n",
    "model9b.layers[1].set_weights([embedding_matrix])\n",
    "model9b.layers[1].trainable = False\n"
   ]
  },
  {
   "cell_type": "code",
   "execution_count": 130,
   "metadata": {},
   "outputs": [
    {
     "name": "stdout",
     "output_type": "stream",
     "text": [
      "Train on 10000 samples, validate on 5000 samples\n",
      "Epoch 1/20\n",
      "10000/10000 [==============================] - 96s 10ms/step - loss: 0.6997 - acc: 0.5283 - val_loss: 1.2597 - val_acc: 0.4980\n",
      "Epoch 2/20\n",
      "10000/10000 [==============================] - 93s 9ms/step - loss: 0.6728 - acc: 0.5911 - val_loss: 0.6715 - val_acc: 0.5978\n",
      "Epoch 3/20\n",
      "10000/10000 [==============================] - 93s 9ms/step - loss: 0.6421 - acc: 0.6439 - val_loss: 0.6223 - val_acc: 0.6638\n",
      "Epoch 4/20\n",
      "10000/10000 [==============================] - 93s 9ms/step - loss: 0.6091 - acc: 0.6805 - val_loss: 0.6316 - val_acc: 0.6706\n",
      "Epoch 5/20\n",
      "10000/10000 [==============================] - 93s 9ms/step - loss: 0.5743 - acc: 0.7099 - val_loss: 0.5756 - val_acc: 0.6804\n",
      "Epoch 6/20\n",
      "10000/10000 [==============================] - 93s 9ms/step - loss: 0.5670 - acc: 0.7173 - val_loss: 0.5996 - val_acc: 0.6860\n",
      "Epoch 7/20\n",
      "10000/10000 [==============================] - 93s 9ms/step - loss: 0.5467 - acc: 0.7411 - val_loss: 0.5197 - val_acc: 0.7682\n",
      "Epoch 8/20\n",
      "10000/10000 [==============================] - 93s 9ms/step - loss: 0.5175 - acc: 0.7536 - val_loss: 0.5515 - val_acc: 0.7082\n",
      "Epoch 9/20\n",
      "10000/10000 [==============================] - 93s 9ms/step - loss: 0.4970 - acc: 0.7625 - val_loss: 0.5144 - val_acc: 0.7536\n",
      "Epoch 10/20\n",
      "10000/10000 [==============================] - 93s 9ms/step - loss: 0.4799 - acc: 0.7776 - val_loss: 0.5373 - val_acc: 0.7530\n",
      "Epoch 11/20\n",
      "10000/10000 [==============================] - 93s 9ms/step - loss: 0.4642 - acc: 0.7839 - val_loss: 0.5248 - val_acc: 0.7498\n",
      "Epoch 12/20\n",
      "10000/10000 [==============================] - 93s 9ms/step - loss: 0.4529 - acc: 0.7947 - val_loss: 0.4819 - val_acc: 0.7896\n",
      "Epoch 13/20\n",
      "10000/10000 [==============================] - 93s 9ms/step - loss: 0.4494 - acc: 0.7907 - val_loss: 0.4897 - val_acc: 0.7406\n"
     ]
    }
   ],
   "source": [
    "model9b.compile(optimizer=\"rmsprop\", loss = \"binary_crossentropy\", metrics = [\"acc\"])\n",
    "\n",
    "history = model9b.fit(x_train, y_train, epochs = 20, batch_size =128, \n",
    "                     callbacks =callbacks_list1, validation_data=(x_val, y_val))"
   ]
  },
  {
   "cell_type": "code",
   "execution_count": 113,
   "metadata": {},
   "outputs": [
    {
     "data": {
      "image/png": "[encoded data removed]",
      "text/plain": [
       "<Figure size 432x288 with 1 Axes>"
      ]
     },
     "metadata": {
      "needs_background": "light"
     },
     "output_type": "display_data"
    },
    {
     "data": {
      "image/png": "[encoded data removed]",
      "text/plain": [
       "<Figure size 432x288 with 1 Axes>"
      ]
     },
     "metadata": {
      "needs_background": "light"
     },
     "output_type": "display_data"
    }
   ],
   "source": [
    "import matplotlib.pyplot as plt\n",
    "acc = history.history['acc']\n",
    "val_acc = history.history['val_acc']\n",
    "loss = history.history['loss']\n",
    "val_loss = history.history['val_loss']\n",
    "epochs = range(1, len(acc) + 1)\n",
    "plt.plot(epochs, acc, 'bo', label='Training acc')\n",
    "plt.plot(epochs, val_acc, 'b', label='Validation acc')\n",
    "plt.title('Training and validation accuracy')\n",
    "plt.legend()\n",
    "plt.figure()\n",
    "plt.plot(epochs, loss, 'bo', label='Training loss')\n",
    "plt.plot(epochs, val_loss, 'b', label='Validation loss')\n",
    "plt.title('Training and validation loss')\n",
    "plt.legend()\n",
    "plt.show()"
   ]
  },
  {
   "cell_type": "code",
   "execution_count": 114,
   "metadata": {},
   "outputs": [
    {
     "data": {
      "text/plain": [
       "(10000, 200)"
      ]
     },
     "execution_count": 114,
     "metadata": {},
     "output_type": "execute_result"
    }
   ],
   "source": [
    " x_train.shape"
   ]
  },
  {
   "cell_type": "code",
   "execution_count": 115,
   "metadata": {},
   "outputs": [
    {
     "name": "stdout",
     "output_type": "stream",
     "text": [
      "_________________________________________________________________\n",
      "Layer (type)                 Output Shape              Param #   \n",
      "=================================================================\n",
      "embedding_15 (Embedding)     (None, None, 100)         1000000   \n",
      "_________________________________________________________________\n",
      "bidirectional_5 (Bidirection (None, 64)                34048     \n",
      "_________________________________________________________________\n",
      "dense_21 (Dense)             (None, 1)                 65        \n",
      "=================================================================\n",
      "Total params: 1,034,113\n",
      "Trainable params: 1,034,113\n",
      "Non-trainable params: 0\n",
      "_________________________________________________________________\n"
     ]
    }
   ],
   "source": [
    "# bidirectional\n",
    "from keras import layers\n",
    "\n",
    "model10 = Sequential()\n",
    "model10.add(Embedding(max_words, embedding_dim))\n",
    "model10.add(layers.Bidirectional(layers.LSTM(batch_size)))\n",
    "model10.add(Dense(1, activation='sigmoid')) \n",
    "model10.summary()\n",
    " "
   ]
  },
  {
   "cell_type": "code",
   "execution_count": 116,
   "metadata": {},
   "outputs": [
    {
     "name": "stdout",
     "output_type": "stream",
     "text": [
      "Train on 10000 samples, validate on 5000 samples\n",
      "Epoch 1/10\n",
      "10000/10000 [==============================] - 90s 9ms/step - loss: 0.6243 - acc: 0.6584 - val_loss: 0.5096 - val_acc: 0.7972\n",
      "Epoch 2/10\n",
      "10000/10000 [==============================] - 87s 9ms/step - loss: 0.4341 - acc: 0.8241 - val_loss: 0.4282 - val_acc: 0.8164\n",
      "Epoch 3/10\n",
      "10000/10000 [==============================] - 87s 9ms/step - loss: 0.3273 - acc: 0.8744 - val_loss: 0.3630 - val_acc: 0.8526\n",
      "Epoch 4/10\n",
      "10000/10000 [==============================] - 87s 9ms/step - loss: 0.2476 - acc: 0.9091 - val_loss: 0.3962 - val_acc: 0.8348\n",
      "Epoch 5/10\n",
      "10000/10000 [==============================] - 87s 9ms/step - loss: 0.1929 - acc: 0.9320 - val_loss: 0.3647 - val_acc: 0.8486\n",
      "Epoch 6/10\n",
      "10000/10000 [==============================] - 87s 9ms/step - loss: 0.1607 - acc: 0.9449 - val_loss: 0.4419 - val_acc: 0.8516\n",
      "Epoch 7/10\n",
      "10000/10000 [==============================] - 87s 9ms/step - loss: 0.1298 - acc: 0.9562 - val_loss: 0.4993 - val_acc: 0.7962\n",
      "Epoch 8/10\n",
      "10000/10000 [==============================] - 87s 9ms/step - loss: 0.1111 - acc: 0.9635 - val_loss: 0.5652 - val_acc: 0.8136\n",
      "Epoch 9/10\n",
      "10000/10000 [==============================] - 87s 9ms/step - loss: 0.0885 - acc: 0.9726 - val_loss: 0.5013 - val_acc: 0.8544\n",
      "Epoch 10/10\n",
      "10000/10000 [==============================] - 87s 9ms/step - loss: 0.0762 - acc: 0.9758 - val_loss: 0.5558 - val_acc: 0.8468\n"
     ]
    }
   ],
   "source": [
    "model10.compile(optimizer=\"rmsprop\", loss = \"binary_crossentropy\", metrics = [\"acc\"])\n",
    "\n",
    "history = model10.fit(x_train, y_train, epochs = 10, batch_size =128, \n",
    "                      callbacks =callbacks_list1, validation_data=(x_val, y_val))"
   ]
  },
  {
   "cell_type": "code",
   "execution_count": 117,
   "metadata": {},
   "outputs": [
    {
     "data": {
      "image/png": "[encoded data removed]",
      "text/plain": [
       "<Figure size 432x288 with 1 Axes>"
      ]
     },
     "metadata": {
      "needs_background": "light"
     },
     "output_type": "display_data"
    },
    {
     "data": {
      "image/png": "[encoded data removed]",
      "text/plain": [
       "<Figure size 432x288 with 1 Axes>"
      ]
     },
     "metadata": {
      "needs_background": "light"
     },
     "output_type": "display_data"
    }
   ],
   "source": [
    "# much better \n",
    "\n",
    "import matplotlib.pyplot as plt\n",
    "acc = history.history['acc']\n",
    "val_acc = history.history['val_acc']\n",
    "loss = history.history['loss']\n",
    "val_loss = history.history['val_loss']\n",
    "epochs = range(1, len(acc) + 1)\n",
    "plt.plot(epochs, acc, 'bo', label='Training acc')\n",
    "plt.plot(epochs, val_acc, 'b', label='Validation acc')\n",
    "plt.title('Training and validation accuracy')\n",
    "plt.legend()\n",
    "plt.figure()\n",
    "plt.plot(epochs, loss, 'bo', label='Training loss')\n",
    "plt.plot(epochs, val_loss, 'b', label='Validation loss')\n",
    "plt.title('Training and validation loss')\n",
    "plt.legend()\n",
    "plt.show()"
   ]
  },
  {
   "cell_type": "code",
   "execution_count": 118,
   "metadata": {},
   "outputs": [
    {
     "name": "stdout",
     "output_type": "stream",
     "text": [
      "_________________________________________________________________\n",
      "Layer (type)                 Output Shape              Param #   \n",
      "=================================================================\n",
      "embedding_16 (Embedding)     (None, 200, 100)          1000000   \n",
      "_________________________________________________________________\n",
      "conv1d_3 (Conv1D)            (None, 194, 32)           22432     \n",
      "_________________________________________________________________\n",
      "max_pooling1d_2 (MaxPooling1 (None, 38, 32)            0         \n",
      "_________________________________________________________________\n",
      "conv1d_4 (Conv1D)            (None, 32, 32)            7200      \n",
      "_________________________________________________________________\n",
      "global_max_pooling1d_2 (Glob (None, 32)                0         \n",
      "_________________________________________________________________\n",
      "dense_22 (Dense)             (None, 1)                 33        \n",
      "=================================================================\n",
      "Total params: 1,029,665\n",
      "Trainable params: 1,029,665\n",
      "Non-trainable params: 0\n",
      "_________________________________________________________________\n"
     ]
    }
   ],
   "source": [
    "#Training and evaluating a simple 1D convnet on the IMDB data\n",
    "from keras.models import Sequential\n",
    "from keras import layers\n",
    "from keras.optimizers import RMSprop\n",
    "  \n",
    "model11 = Sequential()\n",
    "model11.add(layers.Embedding(max_words, embedding_dim, input_length= maxlen ))\n",
    "model11.add(layers.Conv1D(32, 7, activation='relu'))\n",
    "model11.add(layers.MaxPooling1D(5))\n",
    "model11.add(layers.Conv1D(32, 7, activation='relu'))\n",
    "model11.add(layers.GlobalMaxPooling1D())\n",
    "model11.add(layers.Dense(1))\n",
    "model11.summary()\n"
   ]
  },
  {
   "cell_type": "code",
   "execution_count": 119,
   "metadata": {
    "scrolled": false
   },
   "outputs": [
    {
     "name": "stdout",
     "output_type": "stream",
     "text": [
      "Train on 10000 samples, validate on 5000 samples\n",
      "Epoch 1/10\n",
      "10000/10000 [==============================] - 2s 245us/step - loss: 1.0867 - acc: 0.4920 - val_loss: 0.7448 - val_acc: 0.5108\n",
      "Epoch 2/10\n",
      "10000/10000 [==============================] - 1s 79us/step - loss: 0.6919 - acc: 0.5610 - val_loss: 0.6892 - val_acc: 0.5174\n",
      "Epoch 3/10\n",
      "10000/10000 [==============================] - 1s 78us/step - loss: 0.6617 - acc: 0.6944 - val_loss: 0.6768 - val_acc: 0.6218\n",
      "Epoch 4/10\n",
      "10000/10000 [==============================] - 1s 78us/step - loss: 0.6392 - acc: 0.7914 - val_loss: 0.6650 - val_acc: 0.6724\n",
      "Epoch 5/10\n",
      "10000/10000 [==============================] - 1s 79us/step - loss: 0.6134 - acc: 0.8439 - val_loss: 0.6467 - val_acc: 0.7090\n",
      "Epoch 6/10\n",
      "10000/10000 [==============================] - 1s 79us/step - loss: 0.5803 - acc: 0.8619 - val_loss: 0.6217 - val_acc: 0.6958\n",
      "Epoch 7/10\n",
      "10000/10000 [==============================] - 1s 78us/step - loss: 0.5344 - acc: 0.8633 - val_loss: 0.5708 - val_acc: 0.7630\n",
      "Epoch 8/10\n",
      "10000/10000 [==============================] - 1s 79us/step - loss: 0.4700 - acc: 0.8642 - val_loss: 0.5099 - val_acc: 0.7838\n",
      "Epoch 9/10\n",
      "10000/10000 [==============================] - 1s 78us/step - loss: 0.3979 - acc: 0.8697 - val_loss: 0.4573 - val_acc: 0.8106\n",
      "Epoch 10/10\n",
      "10000/10000 [==============================] - 1s 79us/step - loss: 0.3355 - acc: 0.8825 - val_loss: 0.4384 - val_acc: 0.8208\n"
     ]
    }
   ],
   "source": [
    "# this cannot be run multiple times continues\n",
    "# need to run the above cell to initiate the model first\n",
    "\n",
    "# sometimes the above cell needs to run several times to be initialized \n",
    "model11.compile(optimizer=RMSprop(lr=1e-4), \n",
    "                loss='binary_crossentropy',\n",
    "                metrics=['acc'])\n",
    "history = model11.fit(x_train, y_train, epochs=10, batch_size=128, \n",
    "                      callbacks =callbacks_list1, validation_data=(x_val, y_val))"
   ]
  },
  {
   "cell_type": "code",
   "execution_count": 120,
   "metadata": {
    "scrolled": false
   },
   "outputs": [
    {
     "data": {
      "image/png": "[encoded data removed]",
      "text/plain": [
       "<Figure size 432x288 with 1 Axes>"
      ]
     },
     "metadata": {
      "needs_background": "light"
     },
     "output_type": "display_data"
    },
    {
     "data": {
      "image/png": "[encoded data removed]",
      "text/plain": [
       "<Figure size 432x288 with 1 Axes>"
      ]
     },
     "metadata": {
      "needs_background": "light"
     },
     "output_type": "display_data"
    }
   ],
   "source": [
    "# fast and better \n",
    "# embedding dim is important\n",
    "\n",
    "# peak at 10 epochs and acc drops after that  \n",
    "\n",
    "import matplotlib.pyplot as plt\n",
    "acc = history.history['acc']\n",
    "val_acc = history.history['val_acc']\n",
    "loss = history.history['loss']\n",
    "val_loss = history.history['val_loss']\n",
    "epochs = range(1, len(acc) + 1)\n",
    "plt.plot(epochs, acc, 'bo', label='Training acc')\n",
    "plt.plot(epochs, val_acc, 'b', label='Validation acc')\n",
    "plt.title('Training and validation accuracy')\n",
    "plt.legend()\n",
    "plt.figure()\n",
    "plt.plot(epochs, loss, 'bo', label='Training loss')\n",
    "plt.plot(epochs, val_loss, 'b', label='Validation loss')\n",
    "plt.title('Training and validation loss')\n",
    "plt.legend()\n",
    "plt.show()"
   ]
  },
  {
   "cell_type": "code",
   "execution_count": 121,
   "metadata": {},
   "outputs": [
    {
     "name": "stdout",
     "output_type": "stream",
     "text": [
      "25000/25000 [==============================] - 2s 85us/step\n"
     ]
    },
    {
     "data": {
      "text/plain": [
       "[0.4512112761449814, 0.81404]"
      ]
     },
     "execution_count": 121,
     "metadata": {},
     "output_type": "execute_result"
    }
   ],
   "source": [
    "model11.evaluate(x_test, y_test)"
   ]
  }
 ],
 "metadata": {
  "kernelspec": {
   "display_name": "TensorFlow-GPU",
   "language": "python",
   "name": "tf-gpu"
  },
  "language_info": {
   "codemirror_mode": {
    "name": "ipython",
    "version": 3
   },
   "file_extension": ".py",
   "mimetype": "text/x-python",
   "name": "python",
   "nbconvert_exporter": "python",
   "pygments_lexer": "ipython3",
   "version": "3.5.6"
  }
 },
 "nbformat": 4,
 "nbformat_minor": 2
}
